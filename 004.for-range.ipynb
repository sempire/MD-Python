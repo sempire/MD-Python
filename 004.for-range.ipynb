{
 "cells": [
  {
   "cell_type": "code",
   "execution_count": 2,
   "metadata": {},
   "outputs": [],
   "source": [
    "# Программа \"Слово по буквам\". Применение цикла for к строке"
   ]
  },
  {
   "cell_type": "code",
   "execution_count": 3,
   "metadata": {},
   "outputs": [
    {
     "name": "stdout",
     "output_type": "stream",
     "text": [
      "Введите слово: Транспорт\n"
     ]
    }
   ],
   "source": [
    "word = input(\"Введите слово: \")"
   ]
  },
  {
   "cell_type": "code",
   "execution_count": 4,
   "metadata": {},
   "outputs": [
    {
     "name": "stdout",
     "output_type": "stream",
     "text": [
      "Вот все буквы Вашего слова по порядку:\n"
     ]
    }
   ],
   "source": [
    "print(\"Вот все буквы Вашего слова по порядку:\")"
   ]
  },
  {
   "cell_type": "code",
   "execution_count": 5,
   "metadata": {},
   "outputs": [
    {
     "name": "stdout",
     "output_type": "stream",
     "text": [
      "Т\n",
      "р\n",
      "а\n",
      "н\n",
      "с\n",
      "п\n",
      "о\n",
      "р\n",
      "т\n"
     ]
    }
   ],
   "source": [
    "for letter in word:\n",
    "    print(letter)"
   ]
  },
  {
   "cell_type": "code",
   "execution_count": 6,
   "metadata": {},
   "outputs": [],
   "source": [
    "# Программа \"Считалка\". Использование функции range() в сочетании с циклом for"
   ]
  },
  {
   "cell_type": "code",
   "execution_count": 7,
   "metadata": {},
   "outputs": [
    {
     "name": "stdout",
     "output_type": "stream",
     "text": [
      "Посчитаем:\n"
     ]
    }
   ],
   "source": [
    "print(\"Посчитаем:\")"
   ]
  },
  {
   "cell_type": "code",
   "execution_count": 8,
   "metadata": {},
   "outputs": [
    {
     "name": "stdout",
     "output_type": "stream",
     "text": [
      "0 1 2 3 4 5 6 7 8 9 "
     ]
    }
   ],
   "source": [
    "for i in range(10):\n",
    "    print(i, end=\" \")"
   ]
  },
  {
   "cell_type": "code",
   "execution_count": 9,
   "metadata": {},
   "outputs": [
    {
     "name": "stdout",
     "output_type": "stream",
     "text": [
      "Перечислим кратные пяти:\n"
     ]
    }
   ],
   "source": [
    "print(\"Перечислим кратные пяти:\")"
   ]
  },
  {
   "cell_type": "code",
   "execution_count": 10,
   "metadata": {},
   "outputs": [
    {
     "name": "stdout",
     "output_type": "stream",
     "text": [
      "0 5 10 15 20 25 30 35 40 45 "
     ]
    }
   ],
   "source": [
    "for i in range(0, 50, 5):\n",
    "    print(i, end=\" \")"
   ]
  },
  {
   "cell_type": "code",
   "execution_count": 11,
   "metadata": {},
   "outputs": [],
   "source": [
    "# В строке выше три значения рассматриваются как начало, конец счета и интервал"
   ]
  },
  {
   "cell_type": "code",
   "execution_count": 12,
   "metadata": {},
   "outputs": [],
   "source": [
    "# Конец счета не включается, поэтому, чтобы 50 вошло в перебор, то конечное значение необходимо сдвинуть до 51 "
   ]
  },
  {
   "cell_type": "code",
   "execution_count": 13,
   "metadata": {},
   "outputs": [
    {
     "name": "stdout",
     "output_type": "stream",
     "text": [
      "Посчитаем в обратном порядке:\n"
     ]
    }
   ],
   "source": [
    "print(\"Посчитаем в обратном порядке:\")"
   ]
  },
  {
   "cell_type": "code",
   "execution_count": 14,
   "metadata": {},
   "outputs": [
    {
     "name": "stdout",
     "output_type": "stream",
     "text": [
      "10 9 8 7 6 5 4 3 2 1 "
     ]
    }
   ],
   "source": [
    "for i in range(10, 0, -1):\n",
    "    print(i, end=\" \")"
   ]
  },
  {
   "cell_type": "code",
   "execution_count": 15,
   "metadata": {},
   "outputs": [],
   "source": [
    "# Как и в предыдущей строке здесь 0 не включется. \"-1\" прибавляется при движении от начала к концу счета"
   ]
  },
  {
   "cell_type": "code",
   "execution_count": 16,
   "metadata": {},
   "outputs": [],
   "source": [
    "# i, j, k - данными символами обычно обозначаются счетчики цикла"
   ]
  },
  {
   "cell_type": "code",
   "execution_count": 21,
   "metadata": {},
   "outputs": [],
   "source": [
    "# Для повторения любой команды нужное количество раз, создается цикл for без переменной-счетчика:"
   ]
  },
  {
   "cell_type": "code",
   "execution_count": 17,
   "metadata": {},
   "outputs": [
    {
     "name": "stdout",
     "output_type": "stream",
     "text": [
      "Привет!\n",
      "Привет!\n",
      "Привет!\n",
      "Привет!\n",
      "Привет!\n",
      "Привет!\n",
      "Привет!\n",
      "Привет!\n",
      "Привет!\n",
      "Привет!\n"
     ]
    }
   ],
   "source": [
    "for _ in range(10):\n",
    "    print(\"Привет!\")"
   ]
  },
  {
   "cell_type": "code",
   "execution_count": null,
   "metadata": {},
   "outputs": [],
   "source": [
    "# Программа \"Анализатор текста\". Работа функции len() и оператора in"
   ]
  },
  {
   "cell_type": "code",
   "execution_count": 1,
   "metadata": {},
   "outputs": [
    {
     "name": "stdout",
     "output_type": "stream",
     "text": [
      "Введите текст: Транспорт\n"
     ]
    }
   ],
   "source": [
    "message = input(\"Введите текст: \")"
   ]
  },
  {
   "cell_type": "code",
   "execution_count": 2,
   "metadata": {},
   "outputs": [
    {
     "name": "stdout",
     "output_type": "stream",
     "text": [
      "\n",
      "Длина текста:  9\n"
     ]
    }
   ],
   "source": [
    "print(\"\\nДлина текста: \", len(message))"
   ]
  },
  {
   "cell_type": "code",
   "execution_count": 6,
   "metadata": {},
   "outputs": [
    {
     "name": "stdout",
     "output_type": "stream",
     "text": [
      "\n",
      "Самая частая согласная, 'т', \n"
     ]
    }
   ],
   "source": [
    "print(\"\\nСамая частая согласная, 'т', \")"
   ]
  },
  {
   "cell_type": "code",
   "execution_count": 5,
   "metadata": {},
   "outputs": [
    {
     "name": "stdout",
     "output_type": "stream",
     "text": [
      "встречается в вашем тексте.\n"
     ]
    }
   ],
   "source": [
    "if \"т\" in message:\n",
    "    print(\"встречается в вашем тексте.\")\n",
    "else:\n",
    "    print(\"не встречается в вашем тексте.\")"
   ]
  },
  {
   "cell_type": "code",
   "execution_count": 7,
   "metadata": {},
   "outputs": [],
   "source": [
    "# Функция len() возвращает длину (количество элементов) переденной ей последовательности"
   ]
  },
  {
   "cell_type": "code",
   "execution_count": 8,
   "metadata": {},
   "outputs": [],
   "source": [
    "# Оператор in позволяет узнать является ли элемент членом последовательности"
   ]
  },
  {
   "cell_type": "code",
   "execution_count": 1,
   "metadata": {},
   "outputs": [],
   "source": [
    "# Программа \"Случайные буквы\". Демонстрация индексации строк"
   ]
  },
  {
   "cell_type": "code",
   "execution_count": 2,
   "metadata": {},
   "outputs": [],
   "source": [
    "import random"
   ]
  },
  {
   "cell_type": "code",
   "execution_count": 3,
   "metadata": {},
   "outputs": [
    {
     "name": "stdout",
     "output_type": "stream",
     "text": [
      "Введите слово: индекс\n"
     ]
    }
   ],
   "source": [
    "word = input(\"Введите слово: \")"
   ]
  },
  {
   "cell_type": "code",
   "execution_count": 4,
   "metadata": {},
   "outputs": [
    {
     "name": "stdout",
     "output_type": "stream",
     "text": [
      "В переменной word хранится слово:  индекс \n",
      "\n"
     ]
    }
   ],
   "source": [
    "print(\"В переменной word хранится слово: \", word, \"\\n\")"
   ]
  },
  {
   "cell_type": "code",
   "execution_count": 5,
   "metadata": {},
   "outputs": [],
   "source": [
    "high = len(word)"
   ]
  },
  {
   "cell_type": "code",
   "execution_count": 6,
   "metadata": {},
   "outputs": [],
   "source": [
    "low = -len(word)"
   ]
  },
  {
   "cell_type": "code",
   "execution_count": 7,
   "metadata": {},
   "outputs": [
    {
     "name": "stdout",
     "output_type": "stream",
     "text": [
      "word [ 1 ]\t н\n",
      "word [ -3 ]\t е\n",
      "word [ 0 ]\t и\n",
      "word [ 3 ]\t е\n",
      "word [ -3 ]\t е\n",
      "word [ 5 ]\t с\n"
     ]
    }
   ],
   "source": [
    "for i in range(len(word)):\n",
    "    position = random.randrange(low, high)\n",
    "    print(\"word [\", position, \"]\\t\", word[position])"
   ]
  },
  {
   "cell_type": "code",
   "execution_count": 8,
   "metadata": {},
   "outputs": [
    {
     "name": "stdout",
     "output_type": "stream",
     "text": [
      "word[ 2 ]\t д\n",
      "word[ 1 ]\t н\n",
      "word[ -3 ]\t е\n",
      "word[ 3 ]\t е\n",
      "word[ 2 ]\t д\n",
      "word[ 4 ]\t к\n",
      "word[ -2 ]\t к\n",
      "word[ 5 ]\t с\n",
      "word[ -3 ]\t е\n",
      "word[ 4 ]\t к\n"
     ]
    }
   ],
   "source": [
    "for i in range(10):\n",
    "    position = random.randrange(low, high)\n",
    "    print(\"word[\", position, \"]\\t\", word[position])"
   ]
  },
  {
   "cell_type": "code",
   "execution_count": 9,
   "metadata": {},
   "outputs": [],
   "source": [
    "# Последовательности. Изменяемая последовательность - элементы можно модифицировать. Неизменяемая - элементы модифицировать нельзя."
   ]
  },
  {
   "cell_type": "code",
   "execution_count": 10,
   "metadata": {},
   "outputs": [],
   "source": [
    "# Программа \"Только согласные\". Создание новых строк из исходных с помощью цикла for"
   ]
  },
  {
   "cell_type": "code",
   "execution_count": 11,
   "metadata": {},
   "outputs": [
    {
     "name": "stdout",
     "output_type": "stream",
     "text": [
      "Введите текст:длинныйслитныйтекст\n"
     ]
    }
   ],
   "source": [
    "message = input(\"Введите текст: \")"
   ]
  },
  {
   "cell_type": "code",
   "execution_count": 12,
   "metadata": {},
   "outputs": [],
   "source": [
    "new_message = \"\""
   ]
  },
  {
   "cell_type": "code",
   "execution_count": 15,
   "metadata": {},
   "outputs": [],
   "source": [
    "VOWELS = \"aeiouфеёиоуыэюя\""
   ]
  },
  {
   "cell_type": "code",
   "execution_count": null,
   "metadata": {},
   "outputs": [],
   "source": [
    "# VOWELS (\"гласные\") - строка со всем гласными"
   ]
  },
  {
   "cell_type": "code",
   "execution_count": 18,
   "metadata": {},
   "outputs": [],
   "source": [
    "# Переменные, написанные ЗАГЛАВНЫМИ буквами, называются константами и ссылаются на постоянные величины"
   ]
  },
  {
   "cell_type": "code",
   "execution_count": null,
   "metadata": {},
   "outputs": [],
   "source": [
    "# Если одно и то же неизменное значение встречается в коде в нескольких местах, это повод создать константу"
   ]
  },
  {
   "cell_type": "code",
   "execution_count": 14,
   "metadata": {},
   "outputs": [
    {
     "name": "stdout",
     "output_type": "stream",
     "text": [
      "\n"
     ]
    }
   ],
   "source": [
    "print()"
   ]
  },
  {
   "cell_type": "code",
   "execution_count": 16,
   "metadata": {},
   "outputs": [
    {
     "name": "stdout",
     "output_type": "stream",
     "text": [
      "Создана новая строка:  д\n",
      "Создана новая строка:  дл\n",
      "Создана новая строка:  длн\n",
      "Создана новая строка:  длнн\n",
      "Создана новая строка:  длннй\n",
      "Создана новая строка:  длннйс\n",
      "Создана новая строка:  длннйсл\n",
      "Создана новая строка:  длннйслт\n",
      "Создана новая строка:  длннйслтн\n",
      "Создана новая строка:  длннйслтнй\n",
      "Создана новая строка:  длннйслтнйт\n",
      "Создана новая строка:  длннйслтнйтк\n",
      "Создана новая строка:  длннйслтнйткс\n",
      "Создана новая строка:  длннйслтнйткст\n"
     ]
    }
   ],
   "source": [
    "for letter in message:\n",
    "    if letter.lower() not in VOWELS:\n",
    "        new_message += letter\n",
    "        print(\"Создана новая строка: \", new_message)"
   ]
  },
  {
   "cell_type": "code",
   "execution_count": null,
   "metadata": {},
   "outputs": [],
   "source": [
    "# ***.lower() - символы в нижнем регистре"
   ]
  },
  {
   "cell_type": "code",
   "execution_count": 19,
   "metadata": {},
   "outputs": [
    {
     "name": "stdout",
     "output_type": "stream",
     "text": [
      "\n",
      "Ваш текст без гласных:  длннйслтнйткст\n"
     ]
    }
   ],
   "source": [
    "print(\"\\nВаш текст без гласных: \", new_message)"
   ]
  },
  {
   "cell_type": "code",
   "execution_count": 20,
   "metadata": {},
   "outputs": [],
   "source": [
    "# Программа \"Резчик пиццы\". Демонстрация среза строк"
   ]
  },
  {
   "cell_type": "code",
   "execution_count": 21,
   "metadata": {},
   "outputs": [],
   "source": [
    "word = \"пицца\""
   ]
  },
  {
   "cell_type": "code",
   "execution_count": 22,
   "metadata": {},
   "outputs": [
    {
     "name": "stdout",
     "output_type": "stream",
     "text": [
      "\n",
      "Памятка\n",
      "0   1   2   3   4   5\n",
      "+---+---+---+---+---+\n",
      "| п | и | ц | ц | а |\n",
      "+---+---+---+---+---+\n",
      "-5  -4  -3  -2  -1\n",
      "\n"
     ]
    }
   ],
   "source": [
    "print(\n",
    "\"\"\"\n",
    "Памятка\n",
    "0   1   2   3   4   5\n",
    "+---+---+---+---+---+\n",
    "| п | и | ц | ц | а |\n",
    "+---+---+---+---+---+\n",
    "-5  -4  -3  -2  -1\n",
    "\"\"\"\n",
    ")"
   ]
  },
  {
   "cell_type": "code",
   "execution_count": 23,
   "metadata": {},
   "outputs": [
    {
     "name": "stdout",
     "output_type": "stream",
     "text": [
      "Введите начальный и кончный индекса для того среза 'пиццы', который хотите получить\n"
     ]
    }
   ],
   "source": [
    "print(\"Введите начальный и кончный индекса для того среза 'пиццы', который хотите получить\")"
   ]
  },
  {
   "cell_type": "code",
   "execution_count": 24,
   "metadata": {},
   "outputs": [
    {
     "name": "stdout",
     "output_type": "stream",
     "text": [
      "Для выхода нажмите Enter, не вводя начальную позицию\n"
     ]
    }
   ],
   "source": [
    "print(\"Для выхода нажмите Enter, не вводя начальную позицию\")"
   ]
  },
  {
   "cell_type": "code",
   "execution_count": 28,
   "metadata": {},
   "outputs": [],
   "source": [
    "start = None"
   ]
  },
  {
   "cell_type": "code",
   "execution_count": 29,
   "metadata": {},
   "outputs": [],
   "source": [
    "# start присваивается пустое значение (None) для инициализации в условии цикла while"
   ]
  },
  {
   "cell_type": "code",
   "execution_count": 27,
   "metadata": {},
   "outputs": [
    {
     "name": "stdout",
     "output_type": "stream",
     "text": [
      "\n",
      "Начальная позиция: 2\n",
      "Конечная позиция: -1\n",
      "Срез word[ 2 : -1 ] выглядит как цц\n",
      "\n",
      "Начальная позиция: 0\n",
      "Конечная позиция: 4\n",
      "Срез word[ 0 : 4 ] выглядит как пицц\n",
      "\n",
      "Начальная позиция: \n"
     ]
    }
   ],
   "source": [
    "while start != \"\":\n",
    "    start = (input(\"\\nНачальная позиция: \"))\n",
    "    if start:\n",
    "        start = int(start)\n",
    "        finish = int(input(\"Конечная позиция: \"))\n",
    "        print(\"Срез word[\", start, \":\", finish, \"] выглядит как\", end=\" \")\n",
    "        print(word[start:finish])"
   ]
  },
  {
   "cell_type": "code",
   "execution_count": 30,
   "metadata": {},
   "outputs": [],
   "source": [
    "# print(word[:]) - выдаст точную копию последовательности (от начала до конца)"
   ]
  },
  {
   "cell_type": "code",
   "execution_count": null,
   "metadata": {},
   "outputs": [],
   "source": [
    "# Кортеж, в отличие от строк, может содержать элементы любой природы (одновременно и строковые, и числовые, и картинки и т.д.)"
   ]
  },
  {
   "cell_type": "code",
   "execution_count": null,
   "metadata": {},
   "outputs": [],
   "source": [
    "# Программа \"Арсенал героя\". Демонстрация создания кортежа"
   ]
  },
  {
   "cell_type": "code",
   "execution_count": null,
   "metadata": {},
   "outputs": [],
   "source": [
    "# Создадим пустой кортеж"
   ]
  },
  {
   "cell_type": "code",
   "execution_count": 3,
   "metadata": {},
   "outputs": [],
   "source": [
    "inventory = ()"
   ]
  },
  {
   "cell_type": "code",
   "execution_count": 4,
   "metadata": {},
   "outputs": [],
   "source": [
    "# Рассмотрим его как условие"
   ]
  },
  {
   "cell_type": "code",
   "execution_count": 5,
   "metadata": {},
   "outputs": [
    {
     "name": "stdout",
     "output_type": "stream",
     "text": [
      "Вы безоружны.\n"
     ]
    }
   ],
   "source": [
    "if not inventory:\n",
    "    print(\"Вы безоружны.\")"
   ]
  },
  {
   "cell_type": "code",
   "execution_count": 5,
   "metadata": {},
   "outputs": [],
   "source": [
    "# Теперь создадим кортеж с несколькими элементами. Элементы кортежа можно писать в одну строку или каждый в новую"
   ]
  },
  {
   "cell_type": "code",
   "execution_count": 6,
   "metadata": {},
   "outputs": [],
   "source": [
    "inventory = (\"меч\",\n",
    "            \"кольчуга\",\n",
    "            \"щит\",\n",
    "            \"сильное лекарство\")"
   ]
  },
  {
   "cell_type": "code",
   "execution_count": 21,
   "metadata": {},
   "outputs": [],
   "source": [
    "# Выведем кортеж на экран"
   ]
  },
  {
   "cell_type": "code",
   "execution_count": 7,
   "metadata": {},
   "outputs": [
    {
     "name": "stdout",
     "output_type": "stream",
     "text": [
      "\n",
      "Содержимое кортежа: \n"
     ]
    }
   ],
   "source": [
    "print(\"\\nСодержимое кортежа: \")"
   ]
  },
  {
   "cell_type": "code",
   "execution_count": 8,
   "metadata": {},
   "outputs": [
    {
     "name": "stdout",
     "output_type": "stream",
     "text": [
      "('меч', 'кольчуга', 'щит', 'сильное лекарство')\n"
     ]
    }
   ],
   "source": [
    "print(inventory)"
   ]
  },
  {
   "cell_type": "code",
   "execution_count": 10,
   "metadata": {},
   "outputs": [],
   "source": [
    "# Выведем все элементы последовательно"
   ]
  },
  {
   "cell_type": "code",
   "execution_count": 9,
   "metadata": {},
   "outputs": [
    {
     "name": "stdout",
     "output_type": "stream",
     "text": [
      "\n",
      "И так, в нашем арсенале: \n"
     ]
    }
   ],
   "source": [
    "print(\"\\nИ так, в нашем арсенале: \")"
   ]
  },
  {
   "cell_type": "code",
   "execution_count": 12,
   "metadata": {},
   "outputs": [],
   "source": [
    "# Кортежи, как и любое значение в Python, можно рассматривать как условие"
   ]
  },
  {
   "cell_type": "code",
   "execution_count": 13,
   "metadata": {},
   "outputs": [],
   "source": [
    "# Пустой кортеж интерпретируется как ложное условие (False), а при наличии хотя бы одного элемента как истинное (True)"
   ]
  },
  {
   "cell_type": "code",
   "execution_count": 14,
   "metadata": {},
   "outputs": [],
   "source": [
    "# Перебор элементов кортежа и вывод каждого элемента на новую строку:"
   ]
  },
  {
   "cell_type": "code",
   "execution_count": 10,
   "metadata": {},
   "outputs": [
    {
     "name": "stdout",
     "output_type": "stream",
     "text": [
      "меч\n",
      "кольчуга\n",
      "щит\n",
      "сильное лекарство\n"
     ]
    }
   ],
   "source": [
    "for item in inventory:\n",
    "    print(item)"
   ]
  },
  {
   "cell_type": "code",
   "execution_count": 16,
   "metadata": {},
   "outputs": [],
   "source": [
    "# В других языках программирования кортежи называются массивами или векторами, но в них зачастую действует ограничение на однотипность элементов"
   ]
  },
  {
   "cell_type": "code",
   "execution_count": 17,
   "metadata": {},
   "outputs": [],
   "source": [
    "# Ниже найдем длину кортежа используя функцию len()"
   ]
  },
  {
   "cell_type": "code",
   "execution_count": 11,
   "metadata": {},
   "outputs": [
    {
     "name": "stdout",
     "output_type": "stream",
     "text": [
      "Сейчас в вашем распоряжении 4 предмета/-ов.\n"
     ]
    }
   ],
   "source": [
    "print(\"Сейчас в вашем распоряжении\", len(inventory), \"предмета/-ов.\")"
   ]
  },
  {
   "cell_type": "code",
   "execution_count": 19,
   "metadata": {},
   "outputs": [],
   "source": [
    "# Проверка принадлежности к кортежу с помощью оператора in"
   ]
  },
  {
   "cell_type": "code",
   "execution_count": 12,
   "metadata": {},
   "outputs": [
    {
     "name": "stdout",
     "output_type": "stream",
     "text": [
      "Вы еще поживете!\n"
     ]
    }
   ],
   "source": [
    "if \"сильное лекарство\" in inventory:\n",
    "    print(\"Вы еще поживете!\")"
   ]
  },
  {
   "cell_type": "code",
   "execution_count": 25,
   "metadata": {},
   "outputs": [],
   "source": [
    "# Индексация кортежей"
   ]
  },
  {
   "cell_type": "code",
   "execution_count": 26,
   "metadata": {},
   "outputs": [],
   "source": [
    "# Вывод элемента с определенным индексом"
   ]
  },
  {
   "cell_type": "code",
   "execution_count": 13,
   "metadata": {},
   "outputs": [
    {
     "name": "stdout",
     "output_type": "stream",
     "text": [
      "\n",
      "Введите индекс одного из предметов: 2\n"
     ]
    }
   ],
   "source": [
    "index = int(input(\"\\nВведите индекс одного из предметов: \"))"
   ]
  },
  {
   "cell_type": "code",
   "execution_count": 14,
   "metadata": {},
   "outputs": [
    {
     "name": "stdout",
     "output_type": "stream",
     "text": [
      "Под индексом 2 в арсенале находится щит\n"
     ]
    }
   ],
   "source": [
    "print(\"Под индексом\", index, \"в арсенале находится\", inventory[index])"
   ]
  },
  {
   "cell_type": "code",
   "execution_count": 30,
   "metadata": {},
   "outputs": [],
   "source": [
    "# Отображение среза кортежа"
   ]
  },
  {
   "cell_type": "code",
   "execution_count": 16,
   "metadata": {},
   "outputs": [
    {
     "name": "stdout",
     "output_type": "stream",
     "text": [
      "\n",
      "Введите начальный индекс среза: 1\n"
     ]
    }
   ],
   "source": [
    "start = int(input(\"\\nВведите начальный индекс среза: \"))"
   ]
  },
  {
   "cell_type": "code",
   "execution_count": 17,
   "metadata": {},
   "outputs": [
    {
     "name": "stdout",
     "output_type": "stream",
     "text": [
      "Введите конечный индекс среза: 2\n"
     ]
    }
   ],
   "source": [
    "finish = int(input(\"Введите конечный индекс среза: \"))"
   ]
  },
  {
   "cell_type": "code",
   "execution_count": 18,
   "metadata": {},
   "outputs": [
    {
     "name": "stdout",
     "output_type": "stream",
     "text": [
      "Срез inventory[ 1 : 2 ] - это "
     ]
    }
   ],
   "source": [
    "print(\"Срез inventory[\", start, \":\", finish, \"] - это\", end = \" \")"
   ]
  },
  {
   "cell_type": "code",
   "execution_count": 19,
   "metadata": {},
   "outputs": [
    {
     "name": "stdout",
     "output_type": "stream",
     "text": [
      "('кольчуга',)\n"
     ]
    }
   ],
   "source": [
    "print(inventory[start:finish])"
   ]
  },
  {
   "cell_type": "code",
   "execution_count": 21,
   "metadata": {},
   "outputs": [],
   "source": [
    "# Сцепление кортежей"
   ]
  },
  {
   "cell_type": "code",
   "execution_count": 22,
   "metadata": {},
   "outputs": [],
   "source": [
    "# Кортежи соединяются тем же способом, что и строки - оператором конкатенации (+=)"
   ]
  },
  {
   "cell_type": "code",
   "execution_count": null,
   "metadata": {},
   "outputs": [],
   "source": [
    "# Соединим два кортежа"
   ]
  },
  {
   "cell_type": "code",
   "execution_count": 23,
   "metadata": {},
   "outputs": [],
   "source": [
    "chest = (\"золото\", \"бриллианты\")"
   ]
  },
  {
   "cell_type": "code",
   "execution_count": 24,
   "metadata": {},
   "outputs": [
    {
     "name": "stdout",
     "output_type": "stream",
     "text": [
      "Вы нашли ларец, а в нем:\n"
     ]
    }
   ],
   "source": [
    "print(\"Вы нашли ларец, а в нем:\")"
   ]
  },
  {
   "cell_type": "code",
   "execution_count": 25,
   "metadata": {},
   "outputs": [
    {
     "name": "stdout",
     "output_type": "stream",
     "text": [
      "('золото', 'бриллианты')\n"
     ]
    }
   ],
   "source": [
    "print(chest)"
   ]
  },
  {
   "cell_type": "code",
   "execution_count": 26,
   "metadata": {},
   "outputs": [
    {
     "name": "stdout",
     "output_type": "stream",
     "text": [
      "Добавим содержимое ларца к арсеналу. Теперь в арсенале:\n"
     ]
    }
   ],
   "source": [
    "print(\"Добавим содержимое ларца к арсеналу. Теперь в арсенале:\")"
   ]
  },
  {
   "cell_type": "code",
   "execution_count": 27,
   "metadata": {},
   "outputs": [],
   "source": [
    "inventory += chest"
   ]
  },
  {
   "cell_type": "code",
   "execution_count": 28,
   "metadata": {},
   "outputs": [
    {
     "name": "stdout",
     "output_type": "stream",
     "text": [
      "('меч', 'кольчуга', 'щит', 'сильное лекарство', 'золото', 'бриллианты')\n"
     ]
    }
   ],
   "source": [
    "print(inventory)"
   ]
  },
  {
   "cell_type": "code",
   "execution_count": 1,
   "metadata": {},
   "outputs": [],
   "source": [
    "# Вернемся к игре \"Анаграммы\""
   ]
  },
  {
   "cell_type": "code",
   "execution_count": 1,
   "metadata": {},
   "outputs": [],
   "source": [
    "# Компьютер выбирает слово и переставляет буквы - игрок восстанавливает слово "
   ]
  },
  {
   "cell_type": "code",
   "execution_count": 1,
   "metadata": {},
   "outputs": [],
   "source": [
    "import random"
   ]
  },
  {
   "cell_type": "code",
   "execution_count": 1,
   "metadata": {},
   "outputs": [],
   "source": [
    "# WORDS - выбранное имя для кортежа-константы"
   ]
  },
  {
   "cell_type": "code",
   "execution_count": 2,
   "metadata": {},
   "outputs": [],
   "source": [
    "WORDS = (\"питон\", \"анаграмма\", \"простая\", \"сложная\", \"ответ\", \"подстаканник\")"
   ]
  },
  {
   "cell_type": "code",
   "execution_count": 3,
   "metadata": {},
   "outputs": [],
   "source": [
    "# Случайным образом выберем слово из WORDS"
   ]
  },
  {
   "cell_type": "code",
   "execution_count": 3,
   "metadata": {},
   "outputs": [],
   "source": [
    "word = random.choice(WORDS)"
   ]
  },
  {
   "cell_type": "code",
   "execution_count": 4,
   "metadata": {},
   "outputs": [],
   "source": [
    "# Создадим переменную с которой будет сопосталена версия игрока"
   ]
  },
  {
   "cell_type": "code",
   "execution_count": 5,
   "metadata": {},
   "outputs": [],
   "source": [
    "correct = word"
   ]
  },
  {
   "cell_type": "code",
   "execution_count": null,
   "metadata": {},
   "outputs": [],
   "source": []
  }
 ],
 "metadata": {
  "kernelspec": {
   "display_name": "Python 3",
   "language": "python",
   "name": "python3"
  },
  "language_info": {
   "codemirror_mode": {
    "name": "ipython",
    "version": 3
   },
   "file_extension": ".py",
   "mimetype": "text/x-python",
   "name": "python",
   "nbconvert_exporter": "python",
   "pygments_lexer": "ipython3",
   "version": "3.6.6+"
  }
 },
 "nbformat": 4,
 "nbformat_minor": 1
}
